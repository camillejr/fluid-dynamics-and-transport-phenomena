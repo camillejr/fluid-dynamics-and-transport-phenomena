{
 "cells": [
  {
   "cell_type": "markdown",
   "metadata": {},
   "source": [
    "# Lumped system analysis\n",
    "\n",
    "<p style=\"font-size:10px\">This work is licensed under the Creative Commons Attribution-NonCommercial-ShareAlike 4.0 International (CC BY-NC-SA 4.0) license.</p>\n",
    "\n",
    "Kamila Zdybał, 2020\n",
    "\n",
    "<p style=\"font-size:10px\">Université libre de Bruxelles, kamila.zdybal@ulb.ac.be</p>\n",
    "<p style=\"font-size:10px\"><a href=\"https://kamilazdybal.github.io/science-docs/\">Science Docs</a>, kamila.zdybal@gmail.com</p>\n",
    "\n",
    "***\n",
    "\n",
    "In this notebook, we are showing how the temperature function $T(t)$ changes with an increasing coefficient $b = \\frac{hA}{\\rho V C_p}$ in a lumped system analysis of a steel plate. The temperature function in the lumped system is expressed as:\n",
    "\n",
    "$$\n",
    "T(t) = (T_i - T_{\\infty}) e^{-bt} + T_{\\infty}\n",
    "$$"
   ]
  },
  {
   "cell_type": "code",
   "execution_count": 1,
   "metadata": {},
   "outputs": [],
   "source": [
    "import numpy as np\n",
    "import matplotlib.pyplot as plt\n",
    "import matplotlib.animation as animation\n",
    "import math\n",
    "import ipywidgets as widgets\n",
    "from IPython.display import display\n",
    "from ipywidgets import interact, interactive, fixed, interact_manual\n",
    "import ipywidgets as widgets"
   ]
  },
  {
   "cell_type": "markdown",
   "metadata": {},
   "source": [
    "Initial plate temperature in $[^o C]$:"
   ]
  },
  {
   "cell_type": "code",
   "execution_count": 10,
   "metadata": {},
   "outputs": [],
   "source": [
    "Ti = 20"
   ]
  },
  {
   "cell_type": "markdown",
   "metadata": {},
   "source": [
    "Bulk temperature in $[^o C]$:"
   ]
  },
  {
   "cell_type": "code",
   "execution_count": 3,
   "metadata": {},
   "outputs": [],
   "source": [
    "Tinf = 100"
   ]
  },
  {
   "cell_type": "markdown",
   "metadata": {},
   "source": [
    "Steel plate parameters:"
   ]
  },
  {
   "cell_type": "code",
   "execution_count": 4,
   "metadata": {},
   "outputs": [],
   "source": [
    "rho_steel = 7800 # kg/m^3\n",
    "Cp_steel = 502 # J/(kgK)\n",
    "lambda_steel = 43 # W/(mK)\n",
    "L = 0.1 # m\n",
    "D = 0.01 # m\n",
    "H = 0.02 # m\n",
    "V = L*D*H # m^3\n",
    "A = D*H # m^2"
   ]
  },
  {
   "cell_type": "markdown",
   "metadata": {},
   "source": [
    "Assume the Nusselt number $Nu=1$ for a plate:"
   ]
  },
  {
   "cell_type": "code",
   "execution_count": 5,
   "metadata": {},
   "outputs": [],
   "source": [
    "h = lambda_steel/D"
   ]
  },
  {
   "cell_type": "markdown",
   "metadata": {},
   "source": [
    "Starting coefficient $b$:"
   ]
  },
  {
   "cell_type": "code",
   "execution_count": 6,
   "metadata": {},
   "outputs": [],
   "source": [
    "b = h*A/(rho_steel*V*Cp_steel)"
   ]
  },
  {
   "cell_type": "markdown",
   "metadata": {},
   "source": [
    "Discretized time:"
   ]
  },
  {
   "cell_type": "code",
   "execution_count": 7,
   "metadata": {},
   "outputs": [],
   "source": [
    "t_end = 40\n",
    "t = np.linspace(0,t_end,100)"
   ]
  },
  {
   "cell_type": "code",
   "execution_count": 8,
   "metadata": {},
   "outputs": [],
   "source": [
    "def plot_lumped_system(increase):\n",
    "    \n",
    "    fig = plt.figure(figsize=(10,4))\n",
    "    ax = plt.axes(xlim=(0, t_end), ylim=(0, max(Ti, Tinf)*1.1))\n",
    "    plt.xlabel('$t$ $[s]$', fontsize=16)\n",
    "    plt.ylabel('$T(t)$ $[^oC]$', fontsize=16)\n",
    "    dashLine = \"#cccccc\"\n",
    "    plt.plot([0, 100], [Tinf, Tinf], \"--\", lw=1, color=dashLine, zorder=-1)\n",
    "    T = (Ti - Tinf)*2.71828**(-b*increase*t) + Tinf\n",
    "    plt.plot(t,T,lw=3)"
   ]
  },
  {
   "cell_type": "code",
   "execution_count": 9,
   "metadata": {},
   "outputs": [
    {
     "data": {
      "application/vnd.jupyter.widget-view+json": {
       "model_id": "c6f8dcfe90284d919cba036f111b5c6b",
       "version_major": 2,
       "version_minor": 0
      },
      "text/plain": [
       "interactive(children=(IntSlider(value=0, description='increase', max=50), Output()), _dom_classes=('widget-int…"
      ]
     },
     "metadata": {},
     "output_type": "display_data"
    }
   ],
   "source": [
    "interact(plot_lumped_system, increase=widgets.IntSlider(min=0, max=50, step=1, value=0));"
   ]
  },
  {
   "cell_type": "markdown",
   "metadata": {},
   "source": [
    "***"
   ]
  }
 ],
 "metadata": {
  "kernelspec": {
   "display_name": "Python 3",
   "language": "python",
   "name": "python3"
  },
  "language_info": {
   "codemirror_mode": {
    "name": "ipython",
    "version": 3
   },
   "file_extension": ".py",
   "mimetype": "text/x-python",
   "name": "python",
   "nbconvert_exporter": "python",
   "pygments_lexer": "ipython3",
   "version": "3.7.6"
  }
 },
 "nbformat": 4,
 "nbformat_minor": 4
}
